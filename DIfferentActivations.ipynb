{
 "cells": [
  {
   "cell_type": "code",
   "execution_count": 2,
   "metadata": {},
   "outputs": [],
   "source": [
    "import tensorflow as tf\n",
    "from tensorflow.examples.tutorials.mnist import input_data\n",
    "import matplotlib.pyplot as plt\n",
    "# %matplotlib widget\n",
    "%matplotlib inline"
   ]
  },
  {
   "cell_type": "code",
   "execution_count": 3,
   "metadata": {},
   "outputs": [
    {
     "name": "stdout",
     "output_type": "stream",
     "text": [
      "WARNING:tensorflow:From <ipython-input-3-046fbb37e753>:1: read_data_sets (from tensorflow.contrib.learn.python.learn.datasets.mnist) is deprecated and will be removed in a future version.\n",
      "Instructions for updating:\n",
      "Please use alternatives such as official/mnist/dataset.py from tensorflow/models.\n",
      "WARNING:tensorflow:From /Users/kwanghoonan/tensorflow/lib/python2.7/site-packages/tensorflow/contrib/learn/python/learn/datasets/mnist.py:260: maybe_download (from tensorflow.contrib.learn.python.learn.datasets.base) is deprecated and will be removed in a future version.\n",
      "Instructions for updating:\n",
      "Please write your own downloading logic.\n",
      "WARNING:tensorflow:From /Users/kwanghoonan/tensorflow/lib/python2.7/site-packages/tensorflow/contrib/learn/python/learn/datasets/mnist.py:262: extract_images (from tensorflow.contrib.learn.python.learn.datasets.mnist) is deprecated and will be removed in a future version.\n",
      "Instructions for updating:\n",
      "Please use tf.data to implement this functionality.\n",
      "Extracting /tmp/tensorflow/mnist/input_data/train-images-idx3-ubyte.gz\n",
      "WARNING:tensorflow:From /Users/kwanghoonan/tensorflow/lib/python2.7/site-packages/tensorflow/contrib/learn/python/learn/datasets/mnist.py:267: extract_labels (from tensorflow.contrib.learn.python.learn.datasets.mnist) is deprecated and will be removed in a future version.\n",
      "Instructions for updating:\n",
      "Please use tf.data to implement this functionality.\n",
      "Extracting /tmp/tensorflow/mnist/input_data/train-labels-idx1-ubyte.gz\n",
      "Extracting /tmp/tensorflow/mnist/input_data/t10k-images-idx3-ubyte.gz\n",
      "Extracting /tmp/tensorflow/mnist/input_data/t10k-labels-idx1-ubyte.gz\n",
      "WARNING:tensorflow:From /Users/kwanghoonan/tensorflow/lib/python2.7/site-packages/tensorflow/contrib/learn/python/learn/datasets/mnist.py:290: __init__ (from tensorflow.contrib.learn.python.learn.datasets.mnist) is deprecated and will be removed in a future version.\n",
      "Instructions for updating:\n",
      "Please use alternatives such as official/mnist/dataset.py from tensorflow/models.\n"
     ]
    }
   ],
   "source": [
    "mnist = input_data.read_data_sets('/tmp/tensorflow/mnist/input_data')\n",
    "x = tf.placeholder(tf.float32, [None, 784])"
   ]
  },
  {
   "cell_type": "code",
   "execution_count": 4,
   "metadata": {},
   "outputs": [],
   "source": [
    "def sigmoidNN(x):\n",
    "    layer1 = tf.layers.dense(x, 256, activation=tf.nn.sigmoid, use_bias = True)\n",
    "    layer2 = tf.layers.dense(layer1, 256, activation=tf.nn.sigmoid, use_bias = True)\n",
    "    layer3 = tf.layers.dense(layer2, 10, activation=None, use_bias = True)\n",
    "    return layer3"
   ]
  },
  {
   "cell_type": "code",
   "execution_count": 5,
   "metadata": {},
   "outputs": [],
   "source": [
    "def cosineNN(x):\n",
    "    layer1_cos = tf.layers.dense(x, 256, activation=tf.cos, use_bias = True)\n",
    "    layer2_cos = tf.layers.dense(layer1_cos, 256, activation=tf.cos, use_bias = True)\n",
    "    layer3_cos = tf.layers.dense(layer2_cos, 10, activation=None, use_bias = True)\n",
    "    return layer3_cos"
   ]
  },
  {
   "cell_type": "code",
   "execution_count": 18,
   "metadata": {},
   "outputs": [],
   "source": [
    "def signNN(x):\n",
    "    layer1_sin = tf.layers.dense(x, 256, activation=tf.sin, use_bias = True)\n",
    "    layer2_sin = tf.layers.dense(layer1_sin, 256, activation=tf.sin, use_bias = True)\n",
    "    layer3_sin = tf.layers.dense(layer2_sin, 10, activation=None, use_bias = True)\n",
    "    return layer3_sin"
   ]
  },
  {
   "cell_type": "code",
   "execution_count": 19,
   "metadata": {},
   "outputs": [],
   "source": [
    "sigmoid_Networks = sigmoidNN(x)\n",
    "cosine_Networks = cosineNN(x)\n",
    "sine_Networks = signNN(x)"
   ]
  },
  {
   "cell_type": "code",
   "execution_count": 20,
   "metadata": {},
   "outputs": [],
   "source": [
    "y_ = tf.placeholder(tf.int64, [None])"
   ]
  },
  {
   "cell_type": "code",
   "execution_count": 21,
   "metadata": {},
   "outputs": [],
   "source": [
    "cross_entropy_sigmoid = tf.losses.sparse_softmax_cross_entropy(labels=y_, logits=sigmoid_Networks)\n",
    "cross_entropy_cos = tf.losses.sparse_softmax_cross_entropy(labels=y_, logits=cosine_Networks)\n",
    "cross_entropy_sin = tf.losses.sparse_softmax_cross_entropy(labels=y_, logits=sine_Networks)\n",
    "\n",
    "train_step_sigmoid = tf.train.GradientDescentOptimizer(0.1).minimize(cross_entropy_sigmoid)\n",
    "train_step_cos = tf.train.GradientDescentOptimizer(0.1).minimize(cross_entropy_cos)\n",
    "train_step_sin = tf.train.GradientDescentOptimizer(0.1).minimize(cross_entropy_sin)"
   ]
  },
  {
   "cell_type": "code",
   "execution_count": 22,
   "metadata": {},
   "outputs": [
    {
     "name": "stderr",
     "output_type": "stream",
     "text": [
      "/Users/kwanghoonan/tensorflow/lib/python2.7/site-packages/tensorflow/python/client/session.py:1645: UserWarning: An interactive session is already active. This can cause out-of-memory errors in some cases. You must explicitly call `InteractiveSession.close()` to release resources held by the other session(s).\n",
      "  warnings.warn('An interactive session is already active. This can '\n"
     ]
    }
   ],
   "source": [
    "sess = tf.InteractiveSession()\n",
    "tf.global_variables_initializer().run()"
   ]
  },
  {
   "cell_type": "code",
   "execution_count": 23,
   "metadata": {},
   "outputs": [],
   "source": [
    "correct_prediction_sigmoid = tf.equal(tf.argmax(sigmoid_Networks, 1), y_)\n",
    "accuracy_sigmoid = tf.reduce_mean(tf.cast(correct_prediction_sigmoid, tf.float32))\n",
    "correct_prediction_cos = tf.equal(tf.argmax(cosine_Networks, 1), y_)\n",
    "accuracy_cos = tf.reduce_mean(tf.cast(correct_prediction_cos, tf.float32))\n",
    "correct_prediction_cos = tf.equal(tf.argmax(sine_Networks, 1), y_)\n",
    "accuracy_sin = tf.reduce_mean(tf.cast(correct_prediction_cos, tf.float32))"
   ]
  },
  {
   "cell_type": "code",
   "execution_count": 24,
   "metadata": {},
   "outputs": [],
   "source": [
    "acc_sigmoid = []\n",
    "acc_cos = []\n",
    "acc_sin = []\n",
    "\n",
    "loss_sigmoid = []\n",
    "loss_cos = []\n",
    "loss_sin = []"
   ]
  },
  {
   "cell_type": "code",
   "execution_count": 25,
   "metadata": {},
   "outputs": [],
   "source": [
    "for i in range(10000):\n",
    "    batch_xs, batch_ys = mnist.train.next_batch(100)\n",
    "    _, sigmoid_loss = sess.run([train_step_sigmoid, cross_entropy_sigmoid], feed_dict={x: batch_xs, y_ : batch_ys})\n",
    "    _, cos_loss = sess.run([train_step_cos, cross_entropy_cos], feed_dict={x: batch_xs, y_ : batch_ys})\n",
    "    _, sin_loss = sess.run([train_step_sin, cross_entropy_sin], feed_dict={x: batch_xs, y_ : batch_ys})\n",
    "    \n",
    "    if i % 50 == 0:\n",
    "        acc1, acc2, acc3 = sess.run([accuracy_sigmoid, accuracy_cos, accuracy_sin], feed_dict={x: mnist.test.images, y_:mnist.test.labels})\n",
    "        acc_sigmoid.append(acc1)\n",
    "        acc_cos.append(acc2)\n",
    "        acc_sin.append(acc3)\n",
    "        loss_sigmoid.append(sigmoid_loss)\n",
    "        loss_cos.append(cos_loss)\n",
    "        loss_sin.append(sin_loss)"
   ]
  },
  {
   "cell_type": "code",
   "execution_count": 26,
   "metadata": {},
   "outputs": [
    {
     "data": {
      "text/plain": [
       "<matplotlib.legend.Legend at 0x120fa9b90>"
      ]
     },
     "execution_count": 26,
     "metadata": {},
     "output_type": "execute_result"
    },
    {
     "data": {
      "image/png": "[encoded data removed]",
      "text/plain": [
       "<matplotlib.figure.Figure at 0x1220aa490>"
      ]
     },
     "metadata": {},
     "output_type": "display_data"
    }
   ],
   "source": [
    "# %matplotlib inline  \n",
    "fig, ax = plt.subplots()\n",
    "ax.plot(range(0, len(loss_sigmoid)*50, 50), loss_sigmoid, label='Sigmoid')\n",
    "ax.plot(range(0, len(loss_sigmoid)*50, 50), loss_cos, label='Cos')\n",
    "ax.plot(range(0, len(loss_sigmoid)*50, 50), loss_sin, label='Sin')\n",
    "ax.set_xlabel('Training steps')\n",
    "ax.set_ylabel('Loss')\n",
    "ax.set_title('Loss comparions of monotonic versus period activations')\n",
    "ax.legend(loc=4)\n",
    "# plt.show()"
   ]
  },
  {
   "cell_type": "code",
   "execution_count": 27,
   "metadata": {},
   "outputs": [
    {
     "data": {
      "text/plain": [
       "<matplotlib.legend.Legend at 0x1203d8bd0>"
      ]
     },
     "execution_count": 27,
     "metadata": {},
     "output_type": "execute_result"
    },
    {
     "data": {
      "image/png": "[encoded data removed]",
      "text/plain": [
       "<matplotlib.figure.Figure at 0x11fd6f310>"
      ]
     },
     "metadata": {},
     "output_type": "display_data"
    }
   ],
   "source": [
    "fig, ax = plt.subplots()\n",
    "ax.plot(range(0, len(loss_sigmoid)*50, 50), acc_sigmoid, label='Sigmoid')\n",
    "ax.plot(range(0, len(loss_sigmoid)*50, 50), acc_cos, label='Cos')\n",
    "ax.plot(range(0, len(loss_sigmoid)*50, 50), acc_sin, label='Sin')\n",
    "ax.set_xlabel('Training steps')\n",
    "ax.set_ylabel('Accuracy')\n",
    "ax.set_title('Accuracy comparions of monotonic versus period activations')\n",
    "ax.legend(loc=4)"
   ]
  },
  {
   "cell_type": "code",
   "execution_count": 28,
   "metadata": {},
   "outputs": [
    {
     "data": {
      "text/plain": [
       "(0.9441, 0.9814, 0.9801)"
      ]
     },
     "execution_count": 28,
     "metadata": {},
     "output_type": "execute_result"
    }
   ],
   "source": [
    "acc_sigmoid[-1], acc_cos[-1], acc_sin[-1]"
   ]
  },
  {
   "cell_type": "code",
   "execution_count": null,
   "metadata": {},
   "outputs": [],
   "source": []
  }
 ],
 "metadata": {
  "kernelspec": {
   "display_name": "Python 2",
   "language": "python",
   "name": "python2"
  },
  "language_info": {
   "codemirror_mode": {
    "name": "ipython",
    "version": 2
   },
   "file_extension": ".py",
   "mimetype": "text/x-python",
   "name": "python",
   "nbconvert_exporter": "python",
   "pygments_lexer": "ipython2",
   "version": "2.7.10"
  }
 },
 "nbformat": 4,
 "nbformat_minor": 2
}
